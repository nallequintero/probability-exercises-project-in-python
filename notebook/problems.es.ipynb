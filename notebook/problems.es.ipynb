{
 "cells": [
  {
   "cell_type": "markdown",
   "id": "a41f3622",
   "metadata": {},
   "source": [
    "# Ejercicios de probabilidad"
   ]
  },
  {
   "cell_type": "markdown",
   "id": "a6bdbd89",
   "metadata": {},
   "source": [
    "## Ejercicio 1 \n",
    "\n",
    "Dos dados se lanzan una vez y se observa el total obtenido. Usa una simulación para encontrar la probabilidad estimada de que la puntuación sea mayor a 7 o un número par. Una simulación es una repetición del mismo experimento multiples veces para observar su comportamiento:\n",
    "\n",
    "- Ejecuta el experimento 1000 veces (lanza 2 dados 1000 veces, y suma el número de ambos dados).\n",
    "- Lleva ua cuenta de los números y las veces que la suma fue mayor a 7 o un número par.\n",
    "- Divide el número del paso 2 entre el número de iteraciones(1000)."
   ]
  },
  {
   "cell_type": "code",
   "execution_count": 1,
   "id": "eb4476e7",
   "metadata": {},
   "outputs": [
    {
     "name": "stdout",
     "output_type": "stream",
     "text": [
      "La probabilidad estimada de que la puntuación sea un número par o mayor a 7 es: 0.675\n"
     ]
    }
   ],
   "source": [
    "\n",
    "# TODO\n",
    "import random #generador de numeros aleatorios\n",
    "import numpy as np\n",
    "import pandas as pd\n",
    "import matplotlib.pyplot as plot\n",
    "\n",
    "n_experimentos =1000\n",
    "contador = 0\n",
    "# simulacion\n",
    "for i in range(n_experimentos):\n",
    "    # lanzamiento de dos dados aleatoriamente\n",
    "    dado_1 = random.randrange(1,7)\n",
    "    dado_2 = random.randrange(1,7)\n",
    "    \n",
    "    # suma de los resultados de los dados\n",
    "    suma = dado_1 + dado_2\n",
    "    \n",
    "    # establezco la condicion para sumarle al contador\n",
    "    if (suma > 7) or (suma %2 == 0):\n",
    "        contador += 1\n",
    "print(f'La probabilidad estimada de que la puntuación sea un número par o mayor a 7 es: {contador / n_experimentos}')"
   ]
  },
  {
   "cell_type": "markdown",
   "id": "55732bca",
   "metadata": {},
   "source": [
    "## Ejercicio 2\n",
    "\n",
    "Una caja contiene 10 bolas blancas, 20 bolas rojas y 30 bolas verdes. Si tomamos 5 bolas de la caja reemplazándolas (tomando una bola, anotando el color y luego regresandola a la caja). Queremos saber la probabilidad de:\n",
    "\n",
    "1. Tomar 3 blancas y 2 rojas.\n",
    "2. Toas todas del mismo color.\n",
    "\n",
    "Ejecuta el experimento 1000 veces y calcula las probabilidades que mencionadas."
   ]
  },
  {
   "cell_type": "code",
   "execution_count": 2,
   "id": "23244d20",
   "metadata": {},
   "outputs": [
    {
     "name": "stdout",
     "output_type": "stream",
     "text": [
      "{0: 'White', 1: 'White', 2: 'White', 3: 'White', 4: 'White', 5: 'White', 6: 'White', 7: 'White', 8: 'White', 9: 'White', 10: 'Red', 11: 'Red', 12: 'Red', 13: 'Red', 14: 'Red', 15: 'Red', 16: 'Red', 17: 'Red', 18: 'Red', 19: 'Red', 20: 'Red', 21: 'Red', 22: 'Red', 23: 'Red', 24: 'Red', 25: 'Red', 26: 'Red', 27: 'Red', 28: 'Red', 29: 'Red', 30: 'Green', 31: 'Green', 32: 'Green', 33: 'Green', 34: 'Green', 35: 'Green', 36: 'Green', 37: 'Green', 38: 'Green', 39: 'Green', 40: 'Green', 41: 'Green', 42: 'Green', 43: 'Green', 44: 'Green', 45: 'Green', 46: 'Green', 47: 'Green', 48: 'Green', 49: 'Green', 50: 'Green', 51: 'Green', 52: 'Green', 53: 'Green', 54: 'Green', 55: 'Green', 56: 'Green', 57: 'Green', 58: 'Green', 59: 'Green'}\n",
      "La probabilidad estimada de sacar 3 blancas y 2 rojas es: 0.5\n",
      "La probabilidad estimada de sacar 5 bolas del mismo color: 3.2\n"
     ]
    }
   ],
   "source": [
    "ball_box = {}\n",
    "\n",
    "# Crea la cajas con las bolas\n",
    "for i in range(60):\n",
    "    if i < 10:\n",
    "        ball_box[i] = \"White\"\n",
    "    elif (i > 9) and (i < 30):\n",
    "        ball_box[i] = \"Red\"\n",
    "    else:\n",
    "        ball_box[i] = \"Green\"\n",
    "\n",
    "print(ball_box)\n",
    "            \n",
    "# TODO\n",
    "\n",
    "n_experimentos =1000 # numero de veces de la simulación\n",
    "contador_1 = 0\n",
    "contador_2 = 0\n",
    "\n",
    "# Creo la simulación\n",
    "for i in range(n_experimentos):\n",
    "  bolas_color = [] #creo la lista vacia para guardar las bolas que se van sacando\n",
    "  for i in range(5):\n",
    "    bolas_color.append(random.choice(list(ball_box.values()))) # selecciona 5 bolas aleatorias de la caja\n",
    "  # reviso las bolas y los colores\n",
    "  bolas_rojas = sum([1 for i in bolas_color if i == \"Red\"]) # si sale una bola roja suma 1\n",
    "  bolas_blancas = sum([1 for i in bolas_color if i == \"White\"]) # si sale una bola blanca suma 1\n",
    "  bolas_verdes = sum([1 for i in bolas_color if i == \"Green\"]) # si sale una verde suma 1\n",
    "  # establezco el condicional para sumarle al contador si se cumple las condiciones para cumplir las probabilidades solicitadas\n",
    "  if (bolas_blancas == 3) and (bolas_rojas == 2):\n",
    "    contador_1 += 1\n",
    "\n",
    "  if (bolas_blancas == 5) | (bolas_rojas == 5) | (bolas_verdes == 5):\n",
    "    contador_2 += 1\n",
    "\n",
    "print(f'La probabilidad estimada de sacar 3 blancas y 2 rojas es: {contador_1 / n_experimentos*100}')\n",
    "print(f'La probabilidad estimada de sacar 5 bolas del mismo color: {contador_2 / n_experimentos*100}')"
   ]
  }
 ],
 "metadata": {
  "kernelspec": {
   "display_name": ".venv",
   "language": "python",
   "name": "python3"
  },
  "language_info": {
   "codemirror_mode": {
    "name": "ipython",
    "version": 3
   },
   "file_extension": ".py",
   "mimetype": "text/x-python",
   "name": "python",
   "nbconvert_exporter": "python",
   "pygments_lexer": "ipython3",
   "version": "3.11.4"
  }
 },
 "nbformat": 4,
 "nbformat_minor": 5
}
